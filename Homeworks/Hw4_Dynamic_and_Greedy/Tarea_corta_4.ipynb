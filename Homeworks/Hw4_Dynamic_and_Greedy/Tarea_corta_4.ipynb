{
  "nbformat": 4,
  "nbformat_minor": 0,
  "metadata": {
    "colab": {
      "provenance": []
    },
    "kernelspec": {
      "name": "python3",
      "display_name": "Python 3"
    },
    "language_info": {
      "name": "python"
    }
  },
  "cells": [
    {
      "cell_type": "markdown",
      "source": [
        "**Instituto Tecnológico de Costa Rica - TEC**\n",
        "\n",
        "*Análisis de algoritmos*\n",
        "\n",
        "\n",
        "***Kenneth Obando Rodríguez***\n",
        "\n",
        "Trabajo Corto 4: Programación Dinámica y Greedy\n",
        "\n",
        "Estudiantes:\n",
        "- Fabián Bustos Vindas\n",
        "- Ian Murillo Campos\n",
        "- ...\n",
        "\n",
        "Link del Cuaderno:\n",
        "https://colab.research.google.com/drive/1uxwL7jFesddr2xg8UttX8tuNIaueNf_S?usp=sharing\n",
        "\n",
        "Fecha de Entrega: Viernes 20 de octubre, 2023\n"
      ],
      "metadata": {
        "id": "LX-yRCOfeU-0"
      }
    },
    {
      "cell_type": "markdown",
      "source": [
        "## Programación Dinámica:\n",
        "\n",
        "1. Dada una matriz de $s \\times t$ llena de números enteros no negativos, busque un camino desde la posición superior izquierda hasta la esquina inferior derecha que minimice la suma de todos los números a través de su ruta. Solo se puede avanzar hacia abajo o hacia la derecha en cualquier momento."
      ],
      "metadata": {
        "id": "VvXV4NpHeggm"
      }
    },
    {
      "cell_type": "code",
      "source": [
        "def shortestPath(matriz):\n",
        "    filas = len(matriz)\n",
        "    columnas = len(matriz[0])\n",
        "    matRes = [[0 for x in range(columnas)] for y in range(filas)]\n",
        "    matRes[0][0] = matriz[0][0]\n",
        "    for i in range(1, filas):\n",
        "        matRes[i][0] = matRes[i-1][0] + matriz[i][0]\n",
        "    for j in range(1, columnas):\n",
        "        matRes[0][j] = matRes[0][j-1] + matriz[0][j]\n",
        "    for i in range(1, filas):\n",
        "        for j in range(1, columnas):\n",
        "            matRes[i][j] = min(matRes[i-1][j], matRes[i][j-1]) + matriz[i][j]\n",
        "\n",
        "    camino = []\n",
        "    i = filas-1\n",
        "    j = columnas-1\n",
        "\n",
        "    while i > 0 or j > 0:\n",
        "        camino.append(matriz[i][j])\n",
        "        if i == 0:\n",
        "            j -= 1\n",
        "        elif j == 0:\n",
        "            i -= 1\n",
        "        elif matRes[i-1][j] < matRes[i][j-1]:\n",
        "            i -= 1\n",
        "        else:\n",
        "            j -= 1\n",
        "\n",
        "    camino.append(matriz[0][0])\n",
        "    camino.reverse()\n",
        "\n",
        "    return camino, matRes[filas-1][columnas-1]\n",
        "\n"
      ],
      "metadata": {
        "id": "AMAvT80ksOSY"
      },
      "execution_count": null,
      "outputs": []
    },
    {
      "cell_type": "markdown",
      "source": [
        "2. Supongamos que se nos dan $n$ fichas de póker apiladas en dos pilas, donde se pueden ver los bordes de todas las fichas. Cada ficha es de uno de tres colores. Un turno consiste en elegir un color y quitar todas las fichas de ese color de la parte superior de las pilas. El objetivo es minimizar el número de turnos hasta que las fichas se hayan ido. Por ejemplo, consideremos las pilas $(RRVV,VAAA)$. Jugando con rojo, verde y luego azul es suficiente para limpiar las pilas en tres movimientos. Proporcione un algoritmo de programación dinámica $O(n^2)$ para encontrar la mejor estrategia para un par dado de pilas de fichas."
      ],
      "metadata": {
        "id": "L6Vg9SifO2VH"
      }
    },
    {
      "cell_type": "code",
      "source": [
        "\n",
        "\n",
        "def pokerPiles(leftPile, rightPile):\n",
        "    n = len(leftPile)\n",
        "    dynamicLista = [\n",
        "        [0] * (n + 1) for _ in range(n + 1)\n",
        "    ]\n",
        "    for i in range(n-1, -1, -1):\n",
        "        for j in range(n-1, -1, -1):\n",
        "            if leftPile[i] == rightPile[j]:\n",
        "                dynamicLista[i][j] = 1 + dynamicLista[i + 1][j + 1]\n",
        "            else:\n",
        "                dynamicLista[i][j] = min(dynamicLista[i + 1][j] + 1, dynamicLista[i][j + 1] + 1)\n",
        "    return dynamicLista[0][0]\n",
        "\n",
        "leftP = \"RRVV\"\n",
        "rightP = \"VAAA\"\n",
        "minTurns = pokerPiles(leftP, rightP)\n",
        "print(\"Mínimo número de turnos:\", minTurns)"
      ],
      "metadata": {
        "colab": {
          "base_uri": "https://localhost:8080/"
        },
        "id": "U-KWoLDb3bAq",
        "outputId": "ec9018cd-1307-4547-fd19-ab7f1af4f076"
      },
      "execution_count": null,
      "outputs": [
        {
          "output_type": "stream",
          "name": "stdout",
          "text": [
            "Mínimo número de turnos: 4\n"
          ]
        }
      ]
    },
    {
      "cell_type": "markdown",
      "source": [
        "3. La subcadena común más larga (no subsecuencia) de dos cadenas $X$ e $Y$ es la cadena más larga que aparece como una secuencia consecutiva de letras en ambas cadenas. Por ejemplo, la subcadena común más larga de photograph y tomography es ograph.\n",
        "\n",
        "\n",
        "\n",
        "\n"
      ],
      "metadata": {
        "id": "gNDn4P_sQees"
      }
    },
    {
      "cell_type": "markdown",
      "source": [
        "a. Sea  n=|X|  y  m=|Y| . Proporcione un algoritmo de programación dinámica  Θ(nm)  para la subcadena común más larga."
      ],
      "metadata": {
        "id": "kTXX-bc1Ps_v"
      }
    },
    {
      "cell_type": "code",
      "source": [
        "def longestCommonSubstring(string1, string2):\n",
        "    n = len(string1)\n",
        "    m = len(string2)\n",
        "\n",
        "    matTemp = [[0] * (m + 1) for _ in range(n + 1)]\n",
        "    maxLen = 0\n",
        "    posFinal = 0\n",
        "\n",
        "    for i in range(1, n + 1):\n",
        "        for j in range(1, m + 1):\n",
        "            if string1[i - 1] == string2[j - 1]:\n",
        "                matTemp[i][j] = matTemp[i - 1][j - 1] + 1\n",
        "                if matTemp[i][j] > maxLen:\n",
        "                    maxLen = matTemp[i][j]\n",
        "                    posFinal = i\n",
        "            else:\n",
        "                matTemp[i][j] = 0\n",
        "    return string1[posFinal - maxLen:posFinal]"
      ],
      "metadata": {
        "id": "N0BRFbFOPyid"
      },
      "execution_count": null,
      "outputs": []
    },
    {
      "cell_type": "markdown",
      "source": [
        "b. Proporcione un algoritmo más simple  Θ(nm)  que no dependa de la programación dinámica."
      ],
      "metadata": {
        "id": "xbr38D4pPnBr"
      }
    },
    {
      "cell_type": "code",
      "source": [
        "def longest_common_substring(string1, string2):\n",
        "    m = len(string1)\n",
        "    n = len(string2)\n",
        "    secuencia = \"\"\n",
        "    maxLen = 0\n",
        "\n",
        "    for i in range(m):\n",
        "        for j in range(n):\n",
        "            largo = 0\n",
        "            while i + largo < m and j + largo < n and string1[i + largo] == string2[j + largo]:\n",
        "                largo += 1\n",
        "            if largo > maxLen:\n",
        "                maxLen = largo\n",
        "                secuencia = string1[i:i + largo]\n",
        "\n",
        "    return secuencia\n"
      ],
      "metadata": {
        "id": "-tS-xBqJdSwx"
      },
      "execution_count": null,
      "outputs": []
    },
    {
      "cell_type": "markdown",
      "source": [
        "## Programación Greedy:\n",
        "\n",
        "1. En el problema de _schedule_ de un solo procesador, se nos da un conjunto de $n$ trabajos $J$. Cada trabajo $i$ tiene un tiempo de procesamiento $t_i$ y un tiempo límite $d_i$. Un __schedule factible__ es una permutación de los trabajos tal que cuando los trabajos se realizan en ese orden, cada trabajo se termina antes de su tiempo límite. El algoritmo voraz para la programación de un solo procesador selecciona el trabajo con el tiempo límite más temprana primero. Demuestre que si existe un _schedule factible_, entonces el _schedule_ producido por este algoritmo voraz es factible."
      ],
      "metadata": {
        "id": "9cg1L8ncNWca"
      }
    },
    {
      "cell_type": "code",
      "source": [
        "\n",
        "\n",
        "def jobSchedule(jobs):\n",
        "  sortedJobs = sorted(jobs, key = lambda x: x[1])\n",
        "  schedule = []\n",
        "  currentT = 0\n",
        "  for j in sortedJobs:\n",
        "    processTime = j[0]\n",
        "    limitTime = j[1]\n",
        "\n",
        "    if currentT + processTime <= limitTime:\n",
        "      schedule.append(j)\n",
        "      currentT += processTime\n",
        "\n",
        "    return schedule\n",
        "\n",
        "trabajos = [(3, 5), (1, 2), (2, 4), (4, 7), (5, 6)]\n",
        "print(jobSchedule(trabajos))\n"
      ],
      "metadata": {
        "id": "ll9gz98NNbvk",
        "colab": {
          "base_uri": "https://localhost:8080/"
        },
        "outputId": "30ca3f35-b266-42c7-d463-9668a09875ed"
      },
      "execution_count": null,
      "outputs": [
        {
          "output_type": "stream",
          "name": "stdout",
          "text": [
            "[(1, 2)]\n"
          ]
        }
      ]
    }
  ]
}